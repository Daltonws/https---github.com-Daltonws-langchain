{
 "cells": [
  {
   "cell_type": "code",
   "execution_count": 1,
   "metadata": {},
   "outputs": [
    {
     "data": {
      "text/plain": [
       "True"
      ]
     },
     "execution_count": 1,
     "metadata": {},
     "output_type": "execute_result"
    }
   ],
   "source": [
    "import os\n",
    "from dotenv import load_dotenv\n",
    "from langchain_community.llms import OpenAI\n",
    "\n",
    "# Load environment variables from .env file\n",
    "load_dotenv()"
   ]
  },
  {
   "cell_type": "code",
   "execution_count": 2,
   "metadata": {},
   "outputs": [
    {
     "name": "stderr",
     "output_type": "stream",
     "text": [
      "c:\\Users\\william.s.dalton\\projects\\ai-dev\\venv2305\\Lib\\site-packages\\langchain_core\\_api\\deprecation.py:189: LangChainDeprecationWarning: The class `OpenAI` was deprecated in LangChain 0.1.0 and will be removed in 0.2.0. Use langchain_openai.OpenAI instead.\n",
      "  warn_deprecated(\n"
     ]
    },
    {
     "name": "stdout",
     "output_type": "stream",
     "text": [
      "generations=[[Generation(text='\\n\\nAI stands for artificial intelligence. It is a branch of computer science that focuses on creating intelligent machines that can think and act like humans. AI involves the development of algorithms and computer programs that can learn from data, make decisions, and solve problems without explicit instructions from humans. It encompasses a wide range of technologies, including machine learning, natural language processing, computer vision, and robotics. AI has applications in various industries, such as healthcare, finance, transportation, and entertainment. Its goal is to create intelligent machines that can perform tasks that typically require human intelligence, such as reasoning, problem-solving, and decision-making.', generation_info={'finish_reason': 'stop', 'logprobs': None})]] llm_output={'token_usage': {'total_tokens': 127, 'completion_tokens': 123, 'prompt_tokens': 4}, 'model_name': 'gpt-3.5-turbo-instruct'} run=[RunInfo(run_id=UUID('c2b8cc13-9a38-41d6-8751-228affbe9301'))]\n"
     ]
    }
   ],
   "source": [
    "# Initialize OpenAI from langchain_community with default temperature\n",
    "# The API key is read from environment variables\n",
    "llm = OpenAI(temperature=0)\n",
    "\n",
    "# Define the text prompt\n",
    "text = [\"what is AI?\"]\n",
    "\n",
    "# Generate response using the llm object\n",
    "response = llm.generate(text)\n",
    "\n",
    "# Print the response\n",
    "print(response)"
   ]
  }
 ],
 "metadata": {
  "kernelspec": {
   "display_name": "venv2305",
   "language": "python",
   "name": "python3"
  },
  "language_info": {
   "codemirror_mode": {
    "name": "ipython",
    "version": 3
   },
   "file_extension": ".py",
   "mimetype": "text/x-python",
   "name": "python",
   "nbconvert_exporter": "python",
   "pygments_lexer": "ipython3",
   "version": "3.11.7"
  }
 },
 "nbformat": 4,
 "nbformat_minor": 2
}
